{
 "cells": [
  {
   "cell_type": "code",
   "execution_count": 7,
   "metadata": {},
   "outputs": [],
   "source": [
    "import zipfile\n",
    "import pandas as pd\n",
    "\n",
    "# python3 PreProcessingDatasets/preprocess_phap_luat.py\n",
    "\n",
    "zip_file_path = '../datasets/phap_luat_2.zip'\n",
    "csv_file_name = 'Pháp luật.csv'\n",
    "num_rows_to_read = 1000\n",
    "\n",
    "with zipfile.ZipFile(zip_file_path, 'r') as zip_ref:\n",
    "    # Đọc file CSV từ file ZIP và lưu vào DataFrame\n",
    "    with zip_ref.open(csv_file_name) as file:\n",
    "        df = pd.read_csv(file, nrows=num_rows_to_read)\n"
   ]
  },
  {
   "cell_type": "code",
   "execution_count": 8,
   "metadata": {},
   "outputs": [],
   "source": [
    "# tokenizer of model\n",
    "df['sapo'].fillna('', inplace=True)\n",
    "df['content'] = df['sapo'] + df['content']"
   ]
  }
 ],
 "metadata": {
  "kernelspec": {
   "display_name": "Python 3",
   "language": "python",
   "name": "python3"
  },
  "language_info": {
   "codemirror_mode": {
    "name": "ipython",
    "version": 3
   },
   "file_extension": ".py",
   "mimetype": "text/x-python",
   "name": "python",
   "nbconvert_exporter": "python",
   "pygments_lexer": "ipython3",
   "version": "3.10.12"
  }
 },
 "nbformat": 4,
 "nbformat_minor": 2
}
