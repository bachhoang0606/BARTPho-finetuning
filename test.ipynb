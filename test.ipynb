{
 "cells": [
  {
   "cell_type": "code",
   "execution_count": 2,
   "metadata": {},
   "outputs": [
    {
     "name": "stdout",
     "output_type": "stream",
     "text": [
      "                                               title  \\\n",
      "0  Đà Nẵng nghiên cứu tiện ích nhắn tin khi vi ph...   \n",
      "\n",
      "                                                sapo       cate tags  \\\n",
      "0  Theo thống kê của Phòng CSGT (PC67, Công an TP...  Pháp luật  NaN   \n",
      "\n",
      "               publish      source  \\\n",
      "0  2018-02-04T22:15:07  Thanh Niên   \n",
      "\n",
      "                                             content  \n",
      "0  Xử lý phạt nguội qua camera giám sát tại Phòng...  \n"
     ]
    }
   ],
   "source": [
    "import zipfile\n",
    "import pandas as pd\n",
    "\n",
    "# python3 PreProcessingDatasets/preprocess_phap_luat.py\n",
    "\n",
    "zip_file_path = './datasets/Phap_luat.zip'\n",
    "csv_file_name = 'Pháp luật.csv'\n",
    "num_rows_to_read = 1000\n",
    "\n",
    "with zipfile.ZipFile(zip_file_path, 'r') as zip_ref:\n",
    "    # Đọc file CSV từ file ZIP và lưu vào DataFrame\n",
    "    with zip_ref.open(csv_file_name) as file:\n",
    "        df = pd.read_csv(file, nrows=num_rows_to_read)\n",
    "\n",
    "# Kiểm tra dữ liệu trong DataFrame\n",
    "print(df.head(1))"
   ]
  },
  {
   "cell_type": "code",
   "execution_count": 8,
   "metadata": {},
   "outputs": [
    {
     "name": "stdout",
     "output_type": "stream",
     "text": [
      "Đây là nội dung đáng chú ý quy định tại Thông tư 64/2017/TT-BCA sửa đổi, bổ sung một số điều của Thông tư 15/2014/TT-BCA về đăng ký xe, có hiệu lực từ ngày 12/2/2018.\n",
      "Theo đó, Thông tư 64/2017 đã bỏ quy định: Trước khi bán, cho, tặng xe, chủ xe phải thông báo bằng văn bản đến cơ quan đã cấp giấy chứng nhận đăng ký xe đó.\n",
      "Từ ngày 12/2, bán xe, tặng xe không phải thông báo với công an. Ảnh minh họa.\n",
      "Thay vào đó là quy định: Xe đăng ký biển số nền màu xanh, chữ và số màu trắng; xe biển số ký hiệu 80 nền màu trắng, chữ và số màu đen, nay có quyết định điều chuyển, bán, tặng, cho thì trước khi bàn giao xe cho người mua hoặc người được điều chuyển, tặng, cho, chủ xe phải thu hồi, nộp lại đăng ký, biển số cho cơ quan đăng ký xe.\n",
      "Thông tư này giữ nguyên nội dung trong thời hạn 30 ngày, kể từ ngày làm chứng từ chuyển quyền sở hữu xe, tổ chức, cá nhân mua, được điều chuyển, cho, tặng xe phải đến cơ quan đăng ký xe làm thủ tục đăng ký sang tên, di chuyển xe.\n",
      "Đồng thời, trường hợp thu hồi Giấy đăng ký xe, biển số xe cũng có quy định mới: Xe đã đăng ký, cấp biển số nền màu xanh, chữ và số màu trắng; xe biển số ký hiệu 80 nền màu trắng, chữ và số màu đen khi có quyết định điều chuyển, bán, tặng, cho xe.\n",
      "Thông tư này cũng sửa đổi, bổ sung phần nội dung liên quan đến quy định về các đơn vị, cơ quan chức năng được cấp biển số màu xanh chữ màu trắng. Cụ thể, thông tư này đã rút gọn dãy ký tự chữ cái trên biển chỉ còn từ A tới M (trước đây là từ A tới Z).\n",
      "Biển số nền màu xanh, chữ và số màu trắng, sêri biển số sử dụng lần lượt một trong các chữ cái sau: A, B, C, D, E, F, G, H, K, L, M cấp cho xe của các cơ quan của Đảng; Văn phòng Chủ tịch nước; Văn phòng Quốc hội và các cơ quan của Quốc hội; Văn phòng Đoàn đại biểu Quốc hội, HĐND các cấp; các Ban chỉ đạo Trung ương; Công an nhân dân, TAND, VKSND; các bộ, cơ quan ngang bộ, cơ quan thuộc Chính phủ; Ủy ban An toàn giao thông Quốc gia; UBND các cấp và các cơ quan chuyên môn thuộc UBND cấp tỉnh, cấp huyện; tổ chức chính trị-xã hội (Mặt trận Tổ quốc Việt Nam, Công đoàn Việt Nam, Đoàn thanh niên Cộng sản Hồ Chí Minh, Hội Liên hiệp Phụ nữ Việt Nam, Hội Cựu chiến binh Việt Nam, Hội Nông dân Việt Nam); đơn vị sự nghiệp công lập, trừ Trung tâm đào tạo, sát hạch lái xe công lập; Ban quản lý dự án có chức năng quản lý nhà nước.\n",
      "Anh Tuấn (Tổng hợp).\n",
      "\n"
     ]
    }
   ],
   "source": [
    "print(df['content'][2])"
   ]
  },
  {
   "cell_type": "code",
   "execution_count": 9,
   "metadata": {},
   "outputs": [
    {
     "name": "stdout",
     "output_type": "stream",
     "text": [
      "Từ 12/2: Bán ô tô không phải thông báo với công an\n"
     ]
    }
   ],
   "source": [
    "print(df['title'][2])"
   ]
  },
  {
   "cell_type": "code",
   "execution_count": 10,
   "metadata": {},
   "outputs": [
    {
     "name": "stdout",
     "output_type": "stream",
     "text": [
      "Người bán, tặng xe sẽ không phải thông báo bằng văn bản đến cơ quan đã cấp Giấy chứng nhận đăng ký xe để theo dõi.\n"
     ]
    }
   ],
   "source": [
    "print(df['sapo'][2])"
   ]
  }
 ],
 "metadata": {
  "kernelspec": {
   "display_name": "Python 3",
   "language": "python",
   "name": "python3"
  },
  "language_info": {
   "codemirror_mode": {
    "name": "ipython",
    "version": 3
   },
   "file_extension": ".py",
   "mimetype": "text/x-python",
   "name": "python",
   "nbconvert_exporter": "python",
   "pygments_lexer": "ipython3",
   "version": "3.10.12"
  }
 },
 "nbformat": 4,
 "nbformat_minor": 2
}
